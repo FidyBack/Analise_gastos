{
 "cells": [
  {
   "cell_type": "code",
   "execution_count": 1,
   "metadata": {},
   "outputs": [
    {
     "name": "stdout",
     "output_type": "stream",
     "text": [
      "Requirement already up-to-date: BeautifulSoup4 in /home/abel/.local/lib/python3.8/site-packages (4.11.1)\n",
      "Requirement already satisfied, skipping upgrade: soupsieve>1.2 in /home/abel/.local/lib/python3.8/site-packages (from BeautifulSoup4) (2.3.1)\n",
      "Note: you may need to restart the kernel to use updated packages.\n"
     ]
    }
   ],
   "source": [
    "%pip install BeautifulSoup4 -U"
   ]
  },
  {
   "cell_type": "code",
   "execution_count": 2,
   "metadata": {},
   "outputs": [],
   "source": [
    "import requests\n",
    "import random\n",
    "import time\n",
    "import re\n",
    "\n",
    "# scraping\n",
    "from selenium import webdriver\n",
    "from selenium.webdriver.chrome.options import Options\n",
    "from selenium.webdriver.common.by import By\n",
    "from selenium.webdriver.chrome.service import Service\n",
    "from selenium.webdriver.support.ui import WebDriverWait\n",
    "from selenium.webdriver.support import expected_conditions as EC\n",
    "from selenium.webdriver.firefox.firefox_binary import FirefoxBinary\n",
    "from webdriver_manager.chrome import ChromeDriverManager\n",
    "from bs4 import BeautifulSoup\n",
    "from keys import EXTENSION_LINK, API_KEY"
   ]
  },
  {
   "cell_type": "code",
   "execution_count": 3,
   "metadata": {},
   "outputs": [],
   "source": [
    "headers = {\n",
    "     'user-agent': 'Mozilla/5.0 (Windows NT 10.0; Win64; x64) AppleWebKit/537.32  (KHTML, like Gecko) Chrome/75.0.3770.139 Safari/537.32'\n",
    "}"
   ]
  },
  {
   "cell_type": "code",
   "execution_count": 4,
   "metadata": {},
   "outputs": [
    {
     "name": "stdout",
     "output_type": "stream",
     "text": [
      "Status code https://www.tse.jus.br/partidos/partidos-registrados-no-tse: 200\n"
     ]
    }
   ],
   "source": [
    "url_partidos = \"https://www.tse.jus.br/partidos/partidos-registrados-no-tse\"\n",
    "request_partidos = requests.get(url_partidos, headers=headers)\n",
    "request_partidos.encoding = 'utf-8'\n",
    "print(f\"Status code {url_partidos}: {request_partidos.status_code}\")"
   ]
  },
  {
   "cell_type": "code",
   "execution_count": 5,
   "metadata": {},
   "outputs": [
    {
     "name": "stdout",
     "output_type": "stream",
     "text": [
      "{'PTB': '3.11.1981', 'PDT': '10.11.1981', 'PT': '11.2.1982', 'PCdoB': '23.6.1988', 'PSB': '1°.7.1988', 'PSDB': '24.8.1989', 'AGIR': '22.2.1990', 'PSC': '29.3.1990', 'PMN': '25.10.1990', 'CIDADANIA': '19.3.1992', 'PV': '30.9.1993', 'AVANTE': '11.10.1994', 'PP': '16.11.1995', 'PSTU': '19.12.1995', 'PCB': '9.5.1996', 'PRTB': '18.2.1997', 'DC': '5.8.1997', 'PCO': '30.9.1997', 'PODE': '2.10.1997', 'REPUBLICANOS': '25.8.2005', 'PSOL': '15.9.2005', 'PL': '19.12.2006', 'PSD': '27.9.2011', 'PATRIOTA': '19.6.2012', 'PROS': '24.9.2013', 'SOLIDARIEDADE': '24.9.2013', 'NOVO': '15.9.2015', 'REDE': '22.9.2015', 'PMB': '29.9.2015', 'UP': '10.12.2019', 'UNIÃO': '8.2.2022', ('PMDB', 'MDB'): '30.6.1981'}\n"
     ]
    }
   ],
   "source": [
    "# Pega todos os partidos existentes\n",
    "soup_partidos = BeautifulSoup(request_partidos.text, 'html.parser')\n",
    "lista_nome_partidos = soup_partidos \\\n",
    "    .find('table', class_='grid listing table') \\\n",
    "    .find('tbody') \\\n",
    "    .find_all('tr')\n",
    "\n",
    "# Filtragem e relação dos partidos com data de registro\n",
    "lista_nome_partidos.pop(0)\n",
    "lista_nome_partidos.pop(-1)\n",
    "\n",
    "partido_ano = {}\n",
    "for linha in lista_nome_partidos:\n",
    "    element = linha.find_all('td')\n",
    "    partido = element[1].find('strong').text\n",
    "    ano = element[3].text\n",
    "    partido_ano[partido] = ano\n",
    "\n",
    "# Adiciona todos os nomes polssíveis para o partido\n",
    "if partido_ano[\"MDB\"]:\n",
    "    partido_ano[(\"PMDB\", \"MDB\")] = partido_ano.pop(\"MDB\")\n",
    "\n",
    "print(partido_ano)"
   ]
  },
  {
   "cell_type": "code",
   "execution_count": 6,
   "metadata": {},
   "outputs": [
    {
     "name": "stdout",
     "output_type": "stream",
     "text": [
      "Status code https://www.tse.jus.br/partidos/contas-partidarias/prestacao-de-contas/contas-anuais/prestacao-de-contas-partidarias: 200\n"
     ]
    }
   ],
   "source": [
    "# Segunda Consulta\n",
    "url_prestacao = \"https://www.tse.jus.br/partidos/contas-partidarias/prestacao-de-contas/contas-anuais/prestacao-de-contas-partidarias\"\n",
    "request_prestacao = requests.get(url_prestacao, headers=headers)\n",
    "request_prestacao.encoding = 'utf-8'\n",
    "\n",
    "print(f\"Status code {url_prestacao}: {request_prestacao.status_code}\")"
   ]
  },
  {
   "cell_type": "code",
   "execution_count": 8,
   "metadata": {},
   "outputs": [],
   "source": [
    "# Pega o link de 2020\n",
    "soup_anos = BeautifulSoup(request_prestacao.text, 'html.parser')\n",
    "lista_anos = soup_anos.find('div', class_= \"tab-pane active\").find_all('a')\n",
    "for i in lista_anos:\n",
    "    if \"2020\" in i.text:\n",
    "        link_2020 = i.get('href')\n",
    "        break\n",
    "    else:\n",
    "        print('Não encontrou o link de 2020')"
   ]
  },
  {
   "cell_type": "code",
   "execution_count": 14,
   "metadata": {},
   "outputs": [
    {
     "name": "stderr",
     "output_type": "stream",
     "text": [
      "\n",
      "\n",
      "====== WebDriver manager ======\n",
      "Current google-chrome version is 102.0.5005\n",
      "Get LATEST chromedriver version for 102.0.5005 google-chrome\n",
      "Driver [/home/abel/.wdm/drivers/chromedriver/linux64/102.0.5005.61/chromedriver] found in cache\n",
      "/tmp/ipykernel_198137/1586555328.py:9: DeprecationWarning: executable_path has been deprecated, please pass in a Service object\n",
      "  driver = webdriver.Chrome(ChromeDriverManager().install(), options=chrome_options)\n"
     ]
    }
   ],
   "source": [
    "# Função parar tempos aleatórios\n",
    "def random_time(x, y):\n",
    "    time.sleep(random.uniform(x, y))\n",
    "\n",
    "# Configura o Driver\n",
    "chrome_options = Options()\n",
    "# chrome_options.add_argument(\"--headless\")\n",
    "chrome_options.add_extension('Buster.crx.crx')\n",
    "driver = webdriver.Chrome(ChromeDriverManager().install(), options=chrome_options)\n",
    "\n",
    "# Configuração da Extensão\n",
    "driver.get(EXTENSION_LINK)\n",
    "wait = WebDriverWait(driver, 30)\n",
    "wait.until(EC.element_to_be_clickable((By.CLASS_NAME ,\"mdc-select\"))).click()\n",
    "wait.until(EC.element_to_be_clickable((By.XPATH, \"//*[@class='mdc-list']/li[5]\"))).click()\n",
    "wait.until(EC.element_to_be_clickable((By.XPATH, \"//*[@class='mdc-text-field mdc-ripple-upgraded']/input\"))).send_keys(API_KEY)"
   ]
  },
  {
   "cell_type": "code",
   "execution_count": 15,
   "metadata": {},
   "outputs": [
    {
     "name": "stdout",
     "output_type": "stream",
     "text": [
      "Status code https://www.tse.jus.br/partidos/contas-partidarias/prestacao-de-contas/integra-da-prestacao-de-contas-e-demonstrativos-dos-partidos-referentes-a-2020: 200\n"
     ]
    },
    {
     "data": {
      "text/plain": [
       "<tr>\n",
       "<td style=\"text-align: center; \"><strong>SIGLA</strong></td>\n",
       "<td style=\"text-align: center; \"><strong>PARTIDO</strong></td>\n",
       "<td style=\"text-align: center; \"><strong>N°PROCESSO (PJe)</strong></td>\n",
       "</tr>"
      ]
     },
     "execution_count": 15,
     "metadata": {},
     "output_type": "execute_result"
    }
   ],
   "source": [
    "request_ano = requests.get(link_2020, headers=headers)\n",
    "request_ano.encoding = 'utf-8'\n",
    "print(f\"Status code {link_2020}: {request_ano.status_code}\")\n",
    "\n",
    "soup_demost = BeautifulSoup(request_ano.text, 'html.parser')\n",
    "lista_processos = soup_demost \\\n",
    "    .find('table', class_= \"plain table\") \\\n",
    "    .find('tbody') \\\n",
    "    .find_all('tr')\n",
    "lista_processos.pop(0)"
   ]
  },
  {
   "cell_type": "code",
   "execution_count": 16,
   "metadata": {},
   "outputs": [],
   "source": [
    "partido_processo = {}\n",
    "for linha in lista_processos[:1]: # Talvez temporário\n",
    "    element = linha.find_all('td')\n",
    "    partido = element[0].text\n",
    "    processo = element[2].text.strip('\\n')\n",
    "    partido_processo[partido] = processo"
   ]
  },
  {
   "cell_type": "code",
   "execution_count": 18,
   "metadata": {},
   "outputs": [],
   "source": [
    "# Faz nova consulta para cada partido usando Selenium\n",
    "for partido, processo in partido_processo.items():\n",
    "    url_processo = f\"https://consultaunificadapje.tse.jus.br/#/public/resultado/{processo}\"\n",
    "\n",
    "    # Resolve o problema do ReCAPTCHA\n",
    "    driver.get(url_processo)\n",
    "    \n",
    "    driver.switch_to.frame(driver.find_elements(by=By.TAG_NAME, value=\"iframe\")[0])\n",
    "    checkbox = wait.until(EC.presence_of_element_located((By.ID ,\"recaptcha-anchor\")))\n",
    "    random_time(0.5, 1.5)\n",
    "    checkbox.click()\n",
    "    \n",
    "    random_time(2, 3)\n",
    "    driver.switch_to.default_content()\n",
    "    try:\n",
    "        driver.switch_to.frame(driver.find_elements(by=By.TAG_NAME, value=\"iframe\")[2])\n",
    "        reacptcha_sound = wait.until(EC.presence_of_element_located((By.XPATH , '//*[@class=\"rc-buttons\"]/div[2]')))\n",
    "        random_time(0.5, 1.5)\n",
    "        reacptcha_sound.click()\n",
    "\n",
    "        random_time(2, 3)\n",
    "        driver.switch_to.default_content()\n",
    "        driver.switch_to.frame(driver.find_elements(by=By.TAG_NAME, value=\"iframe\")[2])\n",
    "        reacptcha_sound_resolver = wait.until(EC.presence_of_element_located((By.XPATH , '//*[@class=\"rc-buttons\"]/div[4]')))\n",
    "        random_time(0.5, 1.5)\n",
    "        reacptcha_sound_resolver.click()\n",
    "\n",
    "    except:\n",
    "        pass"
   ]
  }
 ],
 "metadata": {
  "kernelspec": {
   "display_name": "Python 3.8.10 64-bit",
   "language": "python",
   "name": "python3"
  },
  "language_info": {
   "codemirror_mode": {
    "name": "ipython",
    "version": 3
   },
   "file_extension": ".py",
   "mimetype": "text/x-python",
   "name": "python",
   "nbconvert_exporter": "python",
   "pygments_lexer": "ipython3",
   "version": "3.8.10"
  },
  "orig_nbformat": 4,
  "vscode": {
   "interpreter": {
    "hash": "e7370f93d1d0cde622a1f8e1c04877d8463912d04d973331ad4851f04de6915a"
   }
  }
 },
 "nbformat": 4,
 "nbformat_minor": 2
}
